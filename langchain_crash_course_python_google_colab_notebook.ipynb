{
  "nbformat": 4,
  "nbformat_minor": 0,
  "metadata": {
    "colab": {
      "provenance": []
    },
    "kernelspec": {
      "name": "python3",
      "display_name": "Python 3"
    },
    "language_info": {
      "name": "python"
    }
  },
  "cells": [
    {
      "cell_type": "markdown",
      "source": [
        "Introduction to LangChain:\n",
        "LangChain is a framework for developing applications powered by language models.According to their team the most powerful and differentiated applications will not only call out to a language model via an API, but will also:\n",
        "\n",
        "- Be data-aware: connect a language model to other sources of data\n",
        "\n",
        "- Be agentic: allow a language model to interact with its environment\n",
        "\n",
        "**Links:**\n",
        "\n",
        "LangChain Docs: https://python.langchain.com/en/latest/index.html\n",
        "\n",
        "Github: https://github.com/hwchase17/langchain\n",
        "\n",
        "Based on LangChain Crash Course by PromptEngineering:\n",
        "https://www.youtube.com/watch?v=5-fc4Tlgmro"
      ],
      "metadata": {
        "id": "uJr_Q8wUa8qa"
      }
    },
    {
      "cell_type": "markdown",
      "source": [
        "### Topics to be covered:\n",
        "- Installation\n",
        "- Available LLMs\n",
        "- Prompt Templates\n",
        "- Chains\n",
        "- Agents & Tools\n",
        "- Memory\n",
        "- Document Loaders\n",
        "- Indexes"
      ],
      "metadata": {
        "id": "plLzOPNFbJzA"
      }
    }
  ]
}